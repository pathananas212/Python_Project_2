{
  "nbformat": 4,
  "nbformat_minor": 0,
  "metadata": {
    "colab": {
      "name": "Untitled8.ipynb",
      "provenance": []
    },
    "kernelspec": {
      "name": "python3",
      "display_name": "Python 3"
    },
    "language_info": {
      "name": "python"
    }
  },
  "cells": [
    {
      "cell_type": "code",
      "execution_count": null,
      "metadata": {
        "id": "BvCslLxMgCMD"
      },
      "outputs": [],
      "source": [
        "import random\n",
        "playing=True\n",
        "\n",
        "suits=('Hearts','Diamonds','Clubs','Spades')\n",
        "ranks=('Two','Three','Four','Five','Six','Seven','Eight','Nine','Ten','Jack','Queen','King','Ace')\n",
        "\n",
        "values={'Two':2,'Three':3, 'Four':4, 'Five':5, 'Six':6, 'Seven':7, 'Eight':8, 'Nine':9, 'Ten':10, 'Jack':10,\n",
        "         'Queen':10, 'King':10, 'Ace':11}\n",
        "\n",
        "class Card:\n",
        "\n",
        "  def __init__(self,suits,ranks):\n",
        "    self.suit=suits\n",
        "    self.rank=ranks\n",
        "    self.values=values[self.rank]\n",
        "    #print('Anas')\n",
        "  \n",
        "  def __str__(self):\n",
        "   return f'{self.rank} of {self.suit}'\n",
        "\n",
        "\n",
        "class Deck():\n",
        "\n",
        "  def __init__(self):\n",
        "    \n",
        "    self.all_cards=[]\n",
        "\n",
        "    for suit in suits:\n",
        "\n",
        "      for rank in ranks:\n",
        "\n",
        "        self.all_cards.append(Card(suit,rank))  #all_cards appending the card \n",
        "                                                # objects so when you will print then Two of hearts this will be outptut\n",
        "  def shuffle(self):\n",
        "    random.shuffle(self.all_cards)\n",
        "  \n",
        "  def deal_one(self):\n",
        "    return self.all_cards.pop()\n",
        "  \n",
        "  def __str__(self):\n",
        "    for i in self.all_cards:\n",
        "      print(i)\n",
        "    return ''\n",
        "\n",
        "class Hand:\n",
        "\n",
        "  def __init__(self):\n",
        "    self.cards=[]\n",
        "    self.value=0\n",
        "    self.aces=0\n",
        "  \n",
        "  def add_card(self,card):\n",
        "\n",
        "   # if type(card)==type([]):\n",
        "   #   self.cards.extend(card)\n",
        "    #  for i in card:\n",
        "     #   self.value+=values[i.rank]\n",
        "    #else:\n",
        "      self.cards.append(card)\n",
        "      self.value+=values[card.rank]\n",
        "      \n",
        "      # Track  of aces \n",
        "      if card.rank=='Ace':\n",
        "        self.aces+=1\n",
        "  \n",
        "  def adjust_for_ace(self):  \n",
        "    # If the total value >21 and i still have an ace\n",
        "    # Than change my Ace to be a 1 instead of 11\n",
        "\n",
        "    # self.aces is treted as 0 as false and 1 as true\n",
        "    while self.value>21 and self.aces:\n",
        "      self.value-=10\n",
        "      self.aces-=1\n",
        "      \n",
        "\n",
        "class Chips:\n",
        "\n",
        "  def __init__(self,total=100,bet=0):\n",
        "    self.total=total                  #int(input('Enter the Amount of chips you wanna Bet (100 or 500)!'))\n",
        "    self.bet=bet\n",
        "  \n",
        "  def win_bet(self):\n",
        "    self.total+=self.bet\n",
        "  \n",
        "  def lose_bet(self):\n",
        "    self.total-=self.bet"
      ]
    },
    {
      "cell_type": "markdown",
      "source": [
        " **for taking bets**"
      ],
      "metadata": {
        "id": "2FwZP5aYg_2o"
      }
    },
    {
      "cell_type": "code",
      "source": [
        "def take_bet():\n",
        "  while True:\n",
        "    total_bal=Chips()\n",
        "    try:\n",
        "      \n",
        "      bet=int(input('Enter your bet:-'))\n",
        "    \n",
        "    except:\n",
        "      print('Please provide a valid amount')\n",
        "    \n",
        "    else:\n",
        "      if  bet>total_bal.total:\n",
        "          print('The bet is over the limit! You have- {}'.format(total_bal.total))\n",
        "      \n",
        "      else:\n",
        "        print('Your bet has been Placed!')\n",
        "        return bet\n",
        "      "
      ],
      "metadata": {
        "id": "fFrUfHGTgrUM"
      },
      "execution_count": null,
      "outputs": []
    },
    {
      "cell_type": "markdown",
      "source": [
        "** prompting the Player to Hit or Stand**"
      ],
      "metadata": {
        "id": "TzO5E0QXg27z"
      }
    },
    {
      "cell_type": "code",
      "source": [
        "def hit_or_stand(deck,hand):\n",
        "\n",
        "  global playing\n",
        "  while True:\n",
        "    x=input(\"Hit or Stand! select h or s\")\n",
        "    \n",
        "    if x[0].lower()=='h':           #hit ,h..\n",
        "      hit(deck,hand)\n",
        "      #continue              \n",
        "    \n",
        "    elif x[0].lower()=='s':\n",
        "      print('Player stands,Dealer is playing!')\n",
        "      \n",
        "      playing=False\n",
        "      return 's'\n",
        "    \n",
        "    else:\n",
        "      print('Unvalid selection,please select again!')\n",
        "      continue\n",
        "    break\n",
        "      "
      ],
      "metadata": {
        "id": "0eAATnDkguzG"
      },
      "execution_count": null,
      "outputs": []
    },
    {
      "cell_type": "markdown",
      "source": [
        "**Display the cards**"
      ],
      "metadata": {
        "id": "MS4EGCSRg4pl"
      }
    },
    {
      "cell_type": "code",
      "source": [
        "def show_some(player,dealer):\n",
        "  # show only One of dealer's cards\n",
        "\n",
        "  print(\"\\n Dealer's hand: \")\n",
        "  \n",
        "  print(\"\\nFirst card is hidden!\")\n",
        "  print(dealer.cards[1])\n",
        "  \n",
        "  # show all pf the player's cards/hand\n",
        "  print(\"\\n \\nPlayer's Hand:\")\n",
        "\n",
        "  for card in player.cards:\n",
        "    print(card)\n",
        " \n",
        "\n",
        "  pass\n",
        "\n",
        "def show_all(player,dealer):\n",
        "  # Show all  cards for dealer\n",
        "  print(\"\\nDealer's hand :\")\n",
        "  for card in dealer.cards:\n",
        "    print(card)\n",
        "    #print(\"\\n\")\n",
        "  print(f\"\\nThe Dealer's Hand value is: {dealer.value}\")\n",
        "\n",
        "  #show all cards for player\n",
        "  print(\"\\n\\n Player's Hand:\")\n",
        "  for card in player.cards:\n",
        "    print(card)\n",
        "  \n",
        "  print(f\"\\nThe Player's Hand value is: {player.value}\")\n",
        "  pass"
      ],
      "metadata": {
        "id": "aIixtumYgyA9"
      },
      "execution_count": null,
      "outputs": []
    },
    {
      "cell_type": "markdown",
      "source": [
        "**functions to handle end of game scenarios**"
      ],
      "metadata": {
        "id": "rCnDCe7ZhGsS"
      }
    },
    {
      "cell_type": "code",
      "source": [
        "def player_busts(player,dealer,chips):\n",
        "  print(\"Player busted!\")\n",
        "  #print('Computer wins!')\n",
        "  chips.lose_bet()\n",
        "\n",
        "def player_wins(player,dealer,chips):\n",
        "  print('Player wins!')\n",
        "  chips.win_bet()\n",
        "\n",
        "def dealer_bust(player,dealer,chips):\n",
        "  print('Dealer busted!')\n",
        "  print('Player Wins')\n",
        "  chips.lose_bet()\n",
        "\n",
        "def dealer_wins(player,dealer,chips):\n",
        "  print(\"Dealer wins!\")\n",
        "  chips.win_bet()\n",
        "\n",
        "def push(player,dealer):\n",
        "  print('Dealer and player tie! PUSH')\n"
      ],
      "metadata": {
        "id": "emJ7UyO0hDq7"
      },
      "execution_count": null,
      "outputs": []
    },
    {
      "cell_type": "markdown",
      "source": [
        "**Main Logic**"
      ],
      "metadata": {
        "id": "WksLM1zrhRsY"
      }
    },
    {
      "cell_type": "code",
      "source": [
        "while True:\n",
        "  #choice=input(\"Wanna play again Y or N\")\n",
        "  print(\"Black-Jack Game, Let's begin!\")\n",
        "  \n",
        "  \n",
        "  deck=Deck()\n",
        "  deck.shuffle()\n",
        "\n",
        "  player_hand=Hand()\n",
        "  player_hand.add_card(deck.deal_one())\n",
        "  player_hand.add_card(deck.deal_one())\n",
        "\n",
        "  dealer_hand=Hand()                                                                             #ef adjust_for_ace(self):  \n",
        "                                                                                                # If the total value >21 and i still have an ace\n",
        "                                                                                                 # Than change my Ace to be a 1 instead of 11\n",
        "\n",
        "                                                                                                 # self.aces is treted as 0 as false and 1 as true\n",
        "  dealer_hand.add_card(deck.deal_one())\n",
        "  dealer_hand.add_card(deck.deal_one())                                                          #  while self.value>21 and self.aces:\n",
        "                                                                                                 #     self.value-=10\n",
        "                                                                                                  #    self.aces-=1 \n",
        "  \n",
        "\n",
        "  # set up the player's chips\n",
        "\n",
        "  chips_player=Chips()\n",
        "\n",
        "  chips_player.bet=take_bet()  #player bet\n",
        "  \n",
        "  # Show cards (but keep one dealer card hidden)\n",
        "  show_some(player_hand,dealer_hand)  \n",
        "  #break\n",
        "  \n",
        "  while playing:\n",
        "    print('\\nPlayer Turn!')\n",
        "\n",
        "    hit_or_stand(deck,player_hand)     # if it get an ace then it's value will reduce by 10 and count by 1\n",
        "\n",
        "    print(player_hand.value)\n",
        "\n",
        "    show_some(player_hand,dealer_hand)\n",
        "\n",
        "    if player_hand.value>21 :\n",
        "\n",
        "      #player_hand.adjust_for_ace()\n",
        "\n",
        "      player_busts(player_hand,dealer_hand,chips_player)\n",
        "\n",
        "      print('\\nComputer wins!')\n",
        "     # print(f'Total Chips after busted:- {chips_player.total}')\n",
        "      break\n",
        "    \n",
        "    \n",
        "  if player_hand.value<=21:\n",
        "\n",
        "      while dealer_hand.value < player_hand.value:\n",
        "        hit(deck,dealer_hand)\n",
        "      \n",
        "      #show all the cards\n",
        "\n",
        "      show_all(player_hand,dealer_hand)\n",
        "\n",
        "      # run different scenario\n",
        "\n",
        "      if dealer_hand.value>21:\n",
        "        dealer_bust(player_hand,dealer_hand,chips_player)\n",
        "      \n",
        "      elif dealer_hand.value>player_hand.value:\n",
        "        dealer_wins(player_hand,dealer_hand,chips_player)\n",
        "      \n",
        "      elif dealer_hand.value<player_hand.value:               #oppositie of comp sum is higher than player sum \n",
        "        player_wins(player_hand,dealer_hand,chips_player)\n",
        "      \n",
        "      else:\n",
        "        push(player_hand,dealer_hand)\n",
        "      \n",
        "    \n",
        "  print('\\nPlayer total chipsare at: {}'.format(chips_player.total))\n",
        "\n",
        "  new_game=input(\"\\n Would you like to play again? y/n\")\n",
        "\n",
        "  if new_game[0].lower()=='y':\n",
        "    playing=True\n",
        "    continue\n",
        "  \n",
        "  else:\n",
        "    print('Thns for playing') \n",
        "    break\n",
        "\n",
        "  \n",
        "\n",
        "\n",
        " \n",
        "  "
      ],
      "metadata": {
        "id": "1eQT_rg5hLzA"
      },
      "execution_count": null,
      "outputs": []
    }
  ]
}