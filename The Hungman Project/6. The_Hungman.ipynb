{
  "nbformat": 4,
  "nbformat_minor": 0,
  "metadata": {
    "colab": {
      "name": "The Hungman",
      "provenance": [],
      "collapsed_sections": []
    },
    "kernelspec": {
      "name": "python3",
      "display_name": "Python 3"
    },
    "language_info": {
      "name": "python"
    }
  },
  "cells": [
    {
      "cell_type": "code",
      "source": [
        "import random"
      ],
      "metadata": {
        "id": "vuEBpva1M4Ah"
      },
      "execution_count": null,
      "outputs": []
    },
    {
      "cell_type": "markdown",
      "source": [
        "**Actual Game start here**"
      ],
      "metadata": {
        "id": "WE0xOQGXbekr"
      }
    },
    {
      "cell_type": "code",
      "source": [
        "def rand_no(mylist_1):\n",
        "  \n",
        "  return random.randint(0,len(mylist_1)-1)"
      ],
      "metadata": {
        "id": "7C_vWUp1mVwM"
      },
      "execution_count": 13,
      "outputs": []
    },
    {
      "cell_type": "code",
      "source": [
        "letter=['apples','banana','guava']   #You can choose any list of alphabet you want\n",
        "\n",
        "#['anomaly','equivocal','lucid','precipitate','assuage','erudite','opaque']\n"
      ],
      "metadata": {
        "id": "UrwtODiOXNVH"
      },
      "execution_count": 43,
      "outputs": []
    },
    {
      "cell_type": "code",
      "source": [
        "def display_hangman(tries):\n",
        "    stages = [  # final state: head, torso, both arms, and both legs\n",
        "                \"\"\"\n",
        "                   --------\n",
        "                   |      |\n",
        "                   |      O\n",
        "                   |     \\\\|/\n",
        "                   |      |\n",
        "                   |     / \\\\\n",
        "                   -\n",
        "                \"\"\",\n",
        "                # head, torso, both arms, and one leg\n",
        "                \"\"\"\n",
        "                   --------\n",
        "                   |      |\n",
        "                   |      O\n",
        "                   |     \\\\|/\n",
        "                   |      |\n",
        "                   |     / \n",
        "                   -\n",
        "                \"\"\",\n",
        "                # head, torso, and both arms\n",
        "                \"\"\"\n",
        "                   --------\n",
        "                   |      |\n",
        "                   |      O\n",
        "                   |     \\\\|/\n",
        "                   |      |\n",
        "                   |      \n",
        "                   -\n",
        "                \"\"\",\n",
        "                # head, torso, and one arm\n",
        "                \"\"\"\n",
        "                   --------\n",
        "                   |      |\n",
        "                   |      O\n",
        "                   |     \\\\|\n",
        "                   |      |\n",
        "                   |     \n",
        "                   -\n",
        "                \"\"\",\n",
        "                # head and torso\n",
        "                \"\"\"\n",
        "                   --------\n",
        "                   |      |\n",
        "                   |      O\n",
        "                   |      |\n",
        "                   |      |\n",
        "                   |     \n",
        "                   -\n",
        "                \"\"\",\n",
        "                # head\n",
        "                \"\"\"\n",
        "                   --------\n",
        "                   |      |\n",
        "                   |      O\n",
        "                   |    \n",
        "                   |      \n",
        "                   |     \n",
        "                   -\n",
        "                \"\"\",\n",
        "                # initial empty state\n",
        "                \"\"\"\n",
        "                   --------\n",
        "                   |      |\n",
        "                   |      \n",
        "                   |    \n",
        "                   |      \n",
        "                   |     \n",
        "                   -\n",
        "                \"\"\"\n",
        "    ]\n",
        "    return stages[tries]"
      ],
      "metadata": {
        "id": "DqgorH-VAA2a"
      },
      "execution_count": null,
      "outputs": []
    },
    {
      "cell_type": "code",
      "source": [
        "import random\n",
        "def main():\n",
        " \n",
        "  \n",
        "  while True:\n",
        "  # words=\"\".join(mylist[:len(letter)])\n",
        "    \n",
        "    mylist=['_','_','_','_','_','_','_','_','_','_','_','_','_','_']\n",
        "\n",
        "    \n",
        "    choice=input('\\nDo you want to Play Hangman(y/n)?').lower()\n",
        "    tries=6\n",
        "    index=rand_no(letter)\n",
        "    \n",
        "    if choice=='y':\n",
        "      #anas=True\n",
        "      play=True\n",
        "\n",
        "     # print(display_hangman(tries))\n",
        "    \n",
        "    else:\n",
        "      print('Thns for playing hungman')\n",
        "      break\n",
        "    #play=True\n",
        "    while play:\n",
        "      \n",
        "\n",
        "        \n",
        "        \n",
        "\n",
        "        while True:\n",
        "          #print(f\"\\n{mylist}\")  #for debugging purpose\n",
        "          print(f'You have {tries} chances left!!')\n",
        "\n",
        "          print(display_hangman(tries))\n",
        "\n",
        "          print(\"\".join(mylist[:len(letter[index])]))\n",
        "\n",
        "          if choice=='y':\n",
        "               #display hang_man\n",
        "\n",
        "            \n",
        "            user=input('please Guess a letter or word: ')\n",
        "          \n",
        "            if user not in letter[index]:\n",
        "              print(\"You have guess it wrong!, Guess again!!!\")\n",
        "              #print(f\"\\n{tries} Remaining\")\n",
        "              tries-=1\n",
        "              if tries==1:\n",
        "                print('Last chance ,Guess it Carefully now!!')\n",
        "              if tries==0:\n",
        "                print(\"Guess it wrong buddy(You lose)!!!\")\n",
        "                print(f\"The Word was {letter[index]}\")\n",
        "                print(display_hangman(tries))\n",
        "                play=False\n",
        "                break\n",
        "              \n",
        "\n",
        "              \n",
        "              continue\n",
        "\n",
        "            if user==letter[index]:   #for word\n",
        "                print(\"Your guess is correct\")\n",
        "                for i in range(0,len(letter[index])):\n",
        "                  mylist[i]=user[i].upper()\n",
        "\n",
        "               # print(\"\".join(mylist[:len(letter[index])]))\n",
        "               # tries-=1\n",
        "                play=False\n",
        "                break\n",
        "          \n",
        "\n",
        "            \n",
        "            else:                       #for letter\n",
        "              print(f'Good Job,{user} is in the word')\n",
        "\n",
        "              for i in range(len(letter[index])):\n",
        "\n",
        "                if user==letter[index][i]:\n",
        "                  mylist[i]=user.upper()\n",
        "              \n",
        "              #tries-=1\n",
        "              #print(\"\".join(mylist[:len(letter[index])]))\n",
        "              \n",
        "         \n",
        "\n",
        "          if \"\".join(mylist[:len(letter[index])])==letter[index].upper():   \n",
        "            print(\"\".join(mylist[:len(letter[index])])) \n",
        "\n",
        "            print(f'''\n",
        "            You won!!!!\n",
        "            Congratulation''')\n",
        "            play=False\n",
        "            break\n",
        "        \n",
        "          elif choice=='n':\n",
        "            \n",
        "\n",
        "            print('Thanks for playing!!')\n",
        "            play=False\n",
        "            anas=False\n",
        "            break\n"
      ],
      "metadata": {
        "id": "GLZ8PfWvb1wE"
      },
      "execution_count": null,
      "outputs": []
    },
    {
      "cell_type": "code",
      "source": [
        "main()"
      ],
      "metadata": {
        "id": "wpwNtTlSJgUH"
      },
      "execution_count": 64,
      "outputs": []
    }
  ]
}