{
 "cells": [
  {
   "cell_type": "code",
   "execution_count": null,
   "id": "6233b382",
   "metadata": {},
   "outputs": [],
   "source": [
    "master_pass=input(\"\\tEnter you master password:\")"
   ]
  },
  {
   "cell_type": "code",
   "execution_count": 32,
   "id": "20e1fe3d",
   "metadata": {},
   "outputs": [],
   "source": [
    "from cryptography.fernet import Fernet"
   ]
  },
  {
   "cell_type": "code",
   "execution_count": 33,
   "id": "853ba056",
   "metadata": {},
   "outputs": [],
   "source": [
    "def load_key():\n",
    "    file=open(\"key.key\",'rb')\n",
    "    key=file.read()\n",
    "    file.close()\n",
    "    return key\n",
    "    "
   ]
  },
  {
   "cell_type": "code",
   "execution_count": 34,
   "id": "df5cd724",
   "metadata": {},
   "outputs": [],
   "source": [
    "def write_key():\n",
    "    key=Fernet.generate_key()\n",
    "    with open(\"key.key\",'wb') as key_file:\n",
    "        key_file.write(key)"
   ]
  },
  {
   "cell_type": "code",
   "execution_count": null,
   "id": "54ef35e9",
   "metadata": {},
   "outputs": [],
   "source": []
  },
  {
   "cell_type": "code",
   "execution_count": 35,
   "id": "d80e47d7",
   "metadata": {},
   "outputs": [],
   "source": [
    "def view():\n",
    "    \n",
    "    \n",
    "    with open ('password.txt','r') as f:\n",
    "        \n",
    "        for i in f.readlines():\n",
    "            i.rstrip()\n",
    "            user,passw=i.split(\"|\")\n",
    "            #above statment will create the list of user and pass\n",
    "            print(\"Username:-\",user+\"\\n\")\n",
    "            print(\"Password:- \",(fer.decrypt(passw.encode())).decode())\n",
    "            \n",
    "        #rstrip: remove the trailling space from char.\n",
    "        #print(f.read())\n",
    "    pass"
   ]
  },
  {
   "cell_type": "code",
   "execution_count": 36,
   "id": "bbc6ad4c",
   "metadata": {},
   "outputs": [],
   "source": [
    "def add():\n",
    "    name=input(\"\\nEnter you name: \")\n",
    "    pwd=input(\"\\nEnter your password:\")\n",
    "    \n",
    "    with open ('password.txt','a') as f:\n",
    "        f.write(f'{name}'+f'| {(fer.encrypt(pwd.enocde())).decode()}'+'\\n')\n",
    "        \n",
    "    pass"
   ]
  },
  {
   "cell_type": "code",
   "execution_count": null,
   "id": "94a45216",
   "metadata": {},
   "outputs": [],
   "source": [
    "\n",
    "master_pass=input(\"\\tEnter you master password:\")\n",
    "\n",
    "key=load_key()+master_pass.encode()\n",
    "#enocode: it takes the string and convert into bytes\n",
    "\n",
    "fer=Fernet(key)\n",
    "\n",
    "while True:\n",
    "    mode=int(input(\"\\nWelcome to password manager\\n1.view\\n2.add\\n3.Quit\"))\n",
    "    \n",
    "    if mode==3:\n",
    "        break\n",
    "    if mode==1:\n",
    "        view()\n",
    "    \n",
    "    elif mode==2:\n",
    "        add()\n",
    "    \n",
    "    else:\n",
    "        continue\n",
    "        \n",
    "        "
   ]
  },
  {
   "cell_type": "code",
   "execution_count": null,
   "id": "3fceb4dd",
   "metadata": {},
   "outputs": [],
   "source": []
  }
 ],
 "metadata": {
  "kernelspec": {
   "display_name": "Python 3 (ipykernel)",
   "language": "python",
   "name": "python3"
  },
  "language_info": {
   "codemirror_mode": {
    "name": "ipython",
    "version": 3
   },
   "file_extension": ".py",
   "mimetype": "text/x-python",
   "name": "python",
   "nbconvert_exporter": "python",
   "pygments_lexer": "ipython3",
   "version": "3.9.12"
  }
 },
 "nbformat": 4,
 "nbformat_minor": 5
}
