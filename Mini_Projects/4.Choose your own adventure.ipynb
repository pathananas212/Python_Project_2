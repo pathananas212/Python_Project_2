{
 "cells": [
  {
   "cell_type": "code",
   "execution_count": 5,
   "id": "e315b187",
   "metadata": {},
   "outputs": [
    {
     "name": "stdout",
     "output_type": "stream",
     "text": [
      "\n",
      "Enter your name :Anas Khan\n"
     ]
    }
   ],
   "source": [
    "name=input(\"\\nEnter your name :\")"
   ]
  },
  {
   "cell_type": "code",
   "execution_count": 41,
   "id": "afe5dccf",
   "metadata": {},
   "outputs": [
    {
     "name": "stdout",
     "output_type": "stream",
     "text": [
      "\n",
      "Enter your name :Anas\n",
      "\n",
      "Welcome Anas to Adventure\n",
      "You have to reach the  university in half hour,and it is raining ! Choose the mode of traveller(car/bike):car\n",
      "You are in the car\n",
      "\n",
      "Want to turn ON the radio (y/n)?y\n",
      "When the time you turn the  radio on, cat is in the middle of the road, you have two option\n",
      " 1.Kill the cat\n",
      "2.just apply the brake?1\n",
      "You have killed the cat and you met with the accident! You did not reach the university!\n",
      "\n",
      "Thnaks you for playing {name}\n"
     ]
    }
   ],
   "source": [
    "name=input(\"\\nEnter your name :\")\n",
    "print(f\"\\nWelcome {name} to Adventure\")\n",
    "\n",
    "\n",
    "choose=input(\"You have to reach the  university in half hour,and it is raining ! Choose the mode of traveller(car/bike):\").lower()\n",
    "\n",
    "if choose=='car':\n",
    "    \n",
    "    print(\"You are in the car\")\n",
    "    \n",
    "    choose=input(\"\\nWant to turn ON the radio (y/n)?\").lower()\n",
    "    \n",
    "    if choose=='y':\n",
    "        choose=int(input(\"When the time you turn the  radio on, cat is in the middle of the road, you have two option\\n 1.Kill the cat\\n2.just apply the brake?\"))\n",
    "        \n",
    "        if choose==1:\n",
    "            \n",
    "            print(\"You have killed the cat and you met with the accident! You did not reach the university!\")\n",
    "        elif choose==2:\n",
    "            print(\"\\nYou are safe and you can reach the University\")\n",
    "        \n",
    "        else:\n",
    "            print(\"Invalid option!\")\n",
    "            \n",
    "        \n",
    "    \n",
    "    \n",
    "    elif choose=='n':\n",
    "        \n",
    "        choose=input('Now you get a call from your friend and you have to pick 2-3 friends , WANT TO PICK (y/n)').lower()\n",
    "        \n",
    "        if choose=='y':\n",
    "            \n",
    "            print(\"\\nYou have collected your friends but you have reach the collage late,so you are not allowed to attend the class\")\n",
    "            print(\"Bad Luck! you loose\")\n",
    "        \n",
    "        elif choose=='n':\n",
    "            print(\"\\nYou have  reach the collage in time but your friends will KILL You!\")\n",
    "            print(\"You have completed your adventure!\")\n",
    "            \n",
    "    \n",
    "    else:\n",
    "        print(\"Invalid option!\")\n",
    "\n",
    "elif choose=='bike':\n",
    "    \n",
    "    choose=input('\\nWant to wear a helment or not(y/n)?').lower()\n",
    "    \n",
    "    if choose=='y':\n",
    "        \n",
    "        print(\"\\nNow you are good to go!\")\n",
    "        \n",
    "        choose=input(\"Want to drive fast in order to reach University (y/n)?\").lower()\n",
    "        \n",
    "        if choose=='y':\n",
    "                        \n",
    "            print('\\nYour tire got puncher and you have 15 min left in order to reach nuv')\n",
    "            \n",
    "            choose=input(\"Want to fix or not (y/n)?\")\n",
    "            \n",
    "            if choose=='y':\n",
    "                    print(\"You failed in your adventure,you can't reach the university\")\n",
    "            \n",
    "            elif choose=='n':\n",
    "        \n",
    "                print(\"Reach the destination in time! Adventure completed\")\n",
    "            \n",
    "            else:\n",
    "                print(\"\\nInvalid option!\")\n",
    "        \n",
    "        elif choose=='n':\n",
    "            print(\"You lost , you have to drive fast in order to reach\")\n",
    "        \n",
    "        else:\n",
    "                print(\"\\nInvalid option!\")\n",
    "    \n",
    "            \n",
    "    elif choose=='n':\n",
    "        print(\"\\nYou have reach the university but you got fever, The adventure has been completed!\")\n",
    "\n",
    "        \n",
    "        \n",
    "        \n",
    "   \n",
    "        \n",
    "    else:\n",
    "        print(\"\\nInvalid option!\")\n",
    "\n",
    "else:\n",
    "    print(\"Invalid option!\")\n",
    "\n",
    "print(f\"\\nThnaks you for playing {name}\")\n",
    "    \n",
    "    \n"
   ]
  },
  {
   "cell_type": "code",
   "execution_count": null,
   "id": "1ffa531a",
   "metadata": {},
   "outputs": [],
   "source": []
  }
 ],
 "metadata": {
  "kernelspec": {
   "display_name": "Python 3 (ipykernel)",
   "language": "python",
   "name": "python3"
  },
  "language_info": {
   "codemirror_mode": {
    "name": "ipython",
    "version": 3
   },
   "file_extension": ".py",
   "mimetype": "text/x-python",
   "name": "python",
   "nbconvert_exporter": "python",
   "pygments_lexer": "ipython3",
   "version": "3.9.12"
  }
 },
 "nbformat": 4,
 "nbformat_minor": 5
}
