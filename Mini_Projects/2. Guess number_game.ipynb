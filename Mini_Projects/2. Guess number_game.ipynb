{
 "cells": [
  {
   "cell_type": "code",
   "execution_count": 1,
   "id": "40a15338",
   "metadata": {},
   "outputs": [],
   "source": [
    "import random\n"
   ]
  },
  {
   "cell_type": "code",
   "execution_count": 2,
   "id": "7c7ca0a7",
   "metadata": {},
   "outputs": [
    {
     "data": {
      "text/plain": [
       "1"
      ]
     },
     "execution_count": 2,
     "metadata": {},
     "output_type": "execute_result"
    }
   ],
   "source": [
    "random.randint(1,10)"
   ]
  },
  {
   "cell_type": "markdown",
   "id": "77525e79",
   "metadata": {},
   "source": [
    " play=True\n",
    "while play:\n",
    "    con=input('Do you want to play!')\n",
    "    \n",
    "    if con=='y' or con=='Y':\n",
    "        print('\\t Welcome to the guessing game (1-10)')\n",
    "        let_begin=True\n",
    "        pass\n",
    "\n",
    "        while let_begin:\n",
    "    \n",
    "            \n",
    "\n",
    "            user=int(input(\"Enter your Guess: \"))\n",
    "            count=0\n",
    "\n",
    "\n",
    "\n",
    "            comp_guss=random.randint(1,10)\n",
    "\n",
    "            if user==comp_guss:\n",
    "                print('Player has guess it correct')\n",
    "                print(f\"After {count} guess , player guess it correct\")\n",
    "\n",
    "                break\n",
    "\n",
    "            else:\n",
    "                print('\\nYour guess is Wrong')\n",
    "                let_begin=True\n",
    "                count+=1\n",
    "    else:\n",
    "        break\n",
    "        \n",
    "\n"
   ]
  },
  {
   "cell_type": "code",
   "execution_count": 3,
   "id": "46a138b4",
   "metadata": {},
   "outputs": [
    {
     "name": "stdout",
     "output_type": "stream",
     "text": [
      "Do you want to play!y\n",
      "\t Welcome to the guessing game (1-10)\n",
      "Enter your Guess: 1\n",
      "\n",
      "Your guess is Wrong\n",
      "You are below the computer guess!\n",
      "Enter your Guess: 10\n",
      "\n",
      "Your guess is Wrong\n",
      "You are above the computer guss!\n",
      "Enter your Guess: 6\n",
      "\n",
      "Your guess is Wrong\n",
      "You are below the computer guess!\n",
      "Enter your Guess: 7\n",
      "\n",
      "Your guess is Wrong\n",
      "You are below the computer guess!\n",
      "Enter your Guess: 9\n",
      "Correct Guess\n",
      "After 4 guess , player guess it correct\n",
      "Do you want to play!N\n",
      "Thanks for playing!\n"
     ]
    }
   ],
   "source": [
    "play=True\n",
    "while play:\n",
    "    con=input('Do you want to play!')\n",
    "    \n",
    "    if con=='y' or con=='Y':\n",
    "        print('\\t Welcome to the guessing game (1-10)')\n",
    "        let_begin=True\n",
    "        pass\n",
    "    \n",
    "        comp_guss=random.randint(1,10)\n",
    "        \n",
    "        count=0\n",
    "        \n",
    "        while let_begin:\n",
    "    \n",
    "            try:\n",
    "\n",
    "                user=int(input(\"Enter your Guess: \"))\n",
    "\n",
    "\n",
    "\n",
    "\n",
    "\n",
    "\n",
    "                if user==comp_guss:\n",
    "                    print('Correct Guess')\n",
    "                    print(f\"After {count} guess , player guess it correct\")\n",
    "\n",
    "                    break\n",
    "\n",
    "                else:\n",
    "                    print('\\nYour guess is Wrong')\n",
    "                    \n",
    "                    if user> comp_guss:\n",
    "                        print(\"You are above the computer guss!\")\n",
    "                    \n",
    "                    else:\n",
    "                        print(\"You are below the computer guess!\")\n",
    "                    \n",
    "                    let_begin=True\n",
    "                    count+=1\n",
    "            \n",
    "            except:\n",
    "                print(\"!Please enter a number next time\")\n",
    "                let_begin=True\n",
    "                \n",
    "                # if you don't declare the let_begin True then it will run -again ang again until you have enter a number\n",
    "                 \n",
    "                \n",
    "    else:\n",
    "        print('Thanks for playing!')\n",
    "        break\n",
    "        \n",
    "\n"
   ]
  },
  {
   "cell_type": "code",
   "execution_count": null,
   "id": "f329b538",
   "metadata": {},
   "outputs": [],
   "source": []
  },
  {
   "cell_type": "code",
   "execution_count": null,
   "id": "5d797523",
   "metadata": {},
   "outputs": [],
   "source": []
  },
  {
   "cell_type": "code",
   "execution_count": null,
   "id": "dd23a3bb",
   "metadata": {},
   "outputs": [],
   "source": []
  }
 ],
 "metadata": {
  "kernelspec": {
   "display_name": "Python 3 (ipykernel)",
   "language": "python",
   "name": "python3"
  },
  "language_info": {
   "codemirror_mode": {
    "name": "ipython",
    "version": 3
   },
   "file_extension": ".py",
   "mimetype": "text/x-python",
   "name": "python",
   "nbconvert_exporter": "python",
   "pygments_lexer": "ipython3",
   "version": "3.9.12"
  }
 },
 "nbformat": 4,
 "nbformat_minor": 5
}
