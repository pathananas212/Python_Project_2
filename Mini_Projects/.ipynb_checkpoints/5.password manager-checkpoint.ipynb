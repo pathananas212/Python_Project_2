{
 "cells": [
  {
   "cell_type": "code",
   "execution_count": null,
   "id": "16975243",
   "metadata": {},
   "outputs": [],
   "source": [
    "master_pass=input(\"\\tEnter you master password:\")"
   ]
  },
  {
   "cell_type": "code",
   "execution_count": 7,
   "id": "13d0a33f",
   "metadata": {},
   "outputs": [],
   "source": [
    "def view():\n",
    "    \n",
    "    \n",
    "    with open ('password.txt','r') as f:\n",
    "        \n",
    "        for i in f.readlines():\n",
    "            print(i.rstrip())\n",
    "        #rstrip: remove the trailling space from char.\n",
    "        #print(f.read())\n",
    "    pass"
   ]
  },
  {
   "cell_type": "code",
   "execution_count": 8,
   "id": "4d52b618",
   "metadata": {},
   "outputs": [],
   "source": [
    "def add():\n",
    "    name=input(\"\\nEnter you name: \")\n",
    "    pwd=input(\"\\nEnter your password:\")\n",
    "    \n",
    "    with open ('password.txt','a') as f:\n",
    "        f.write(f'{name}'+f'| {pwd}'+'\\n')\n",
    "        \n",
    "    pass"
   ]
  },
  {
   "cell_type": "code",
   "execution_count": null,
   "id": "a4585abb",
   "metadata": {},
   "outputs": [
    {
     "name": "stdout",
     "output_type": "stream",
     "text": [
      "\n",
      "Welcome to password manager\n",
      "1.view\n",
      "2.add\n",
      "3.Quit1\n",
      "Anas| 786W\n",
      "aa| 1\n"
     ]
    }
   ],
   "source": [
    "while True:\n",
    "    mode=int(input(\"\\nWelcome to password manager\\n1.view\\n2.add\\n3.Quit\"))\n",
    "    \n",
    "    if mode==3:\n",
    "        break\n",
    "    if mode==1:\n",
    "        view()\n",
    "    \n",
    "    elif mode==2:\n",
    "        add()\n",
    "    \n",
    "    else:\n",
    "        continue\n",
    "        \n",
    "        "
   ]
  },
  {
   "cell_type": "code",
   "execution_count": null,
   "id": "3373fc7f",
   "metadata": {},
   "outputs": [],
   "source": []
  }
 ],
 "metadata": {
  "kernelspec": {
   "display_name": "Python 3 (ipykernel)",
   "language": "python",
   "name": "python3"
  },
  "language_info": {
   "codemirror_mode": {
    "name": "ipython",
    "version": 3
   },
   "file_extension": ".py",
   "mimetype": "text/x-python",
   "name": "python",
   "nbconvert_exporter": "python",
   "pygments_lexer": "ipython3",
   "version": "3.9.12"
  }
 },
 "nbformat": 4,
 "nbformat_minor": 5
}
